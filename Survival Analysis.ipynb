{
 "cells": [
  {
   "cell_type": "markdown",
   "id": "4254c949",
   "metadata": {},
   "source": [
    "# Survival Analysis\n",
    "By Josh Houlding\n",
    "\n",
    "It is important to have experience analyzing data where time to a given event is the dependent variable. The task will be to compare the survival distribution between groups, estimate the survival distribution, and model the effect of explanatory variables on the outcome variable. Then, differentiate between the use of the Poisson distribution to estimate the rate of event occurrence and survival analysis to estimate time lapse between events.\n",
    "\n",
    "For this activity, perform the following:"
   ]
  },
  {
   "cell_type": "markdown",
   "id": "0f9959b4",
   "metadata": {},
   "source": [
    "# Task 1\n",
    "* Access the <a href=\"https://archive.ics.uci.edu/dataset/38/echocardiogram\">\"Echocardiogram Data Set\"</a>, located in the topic Resources.\n",
    "* Using the topic Resources, familiarize yourself with the differences between survival analysis and the Poisson distribution, with an emphasis on parameter estimation (e.g. λ = E(X)).\n",
    "* Explore the data, perform initial descriptive statistics tests, and explain and visualize your findings. Use the kable() function to visualize the data.\n",
    "* Formulate a question that can be answered by performing survival analysis."
   ]
  },
  {
   "cell_type": "code",
   "execution_count": 41,
   "id": "9c280d55",
   "metadata": {},
   "outputs": [],
   "source": [
    "# Import basic libraries\n",
    "import pandas as pd \n",
    "import numpy as np\n",
    "\n",
    "# Import visualization libraries\n",
    "import matplotlib.pyplot as plt\n",
    "\n",
    "# Import modeling libraries\n",
    "from lifelines import KaplanMeierFitter\n",
    "\n",
    "# Import diagnostic libraries\n",
    "from lifelines.statistics import logrank_test"
   ]
  },
  {
   "cell_type": "markdown",
   "id": "03983815",
   "metadata": {},
   "source": [
    "### Loading, viewing and cleaning the data"
   ]
  },
  {
   "cell_type": "code",
   "execution_count": 42,
   "id": "68f63a76",
   "metadata": {
    "scrolled": true
   },
   "outputs": [
    {
     "data": {
      "text/html": [
       "<div>\n",
       "<style scoped>\n",
       "    .dataframe tbody tr th:only-of-type {\n",
       "        vertical-align: middle;\n",
       "    }\n",
       "\n",
       "    .dataframe tbody tr th {\n",
       "        vertical-align: top;\n",
       "    }\n",
       "\n",
       "    .dataframe thead th {\n",
       "        text-align: right;\n",
       "    }\n",
       "</style>\n",
       "<table border=\"1\" class=\"dataframe\">\n",
       "  <thead>\n",
       "    <tr style=\"text-align: right;\">\n",
       "      <th></th>\n",
       "      <th>survival</th>\n",
       "      <th>still_alive</th>\n",
       "      <th>age_at_heart_attack</th>\n",
       "      <th>pericardial_effusion</th>\n",
       "      <th>fractional_shortening</th>\n",
       "      <th>epss</th>\n",
       "      <th>lvdd</th>\n",
       "      <th>wall_motion_score</th>\n",
       "      <th>wall_motion_index</th>\n",
       "      <th>mult</th>\n",
       "      <th>name</th>\n",
       "      <th>group</th>\n",
       "      <th>alive_at_1</th>\n",
       "      <th>Unnamed: 13</th>\n",
       "    </tr>\n",
       "  </thead>\n",
       "  <tbody>\n",
       "    <tr>\n",
       "      <th>0</th>\n",
       "      <td>11</td>\n",
       "      <td>0</td>\n",
       "      <td>71</td>\n",
       "      <td>0</td>\n",
       "      <td>0.26</td>\n",
       "      <td>9</td>\n",
       "      <td>4.6</td>\n",
       "      <td>14</td>\n",
       "      <td>1</td>\n",
       "      <td>1</td>\n",
       "      <td>name</td>\n",
       "      <td>1</td>\n",
       "      <td>0</td>\n",
       "      <td>NaN</td>\n",
       "    </tr>\n",
       "    <tr>\n",
       "      <th>1</th>\n",
       "      <td>19</td>\n",
       "      <td>0</td>\n",
       "      <td>72</td>\n",
       "      <td>0</td>\n",
       "      <td>0.38</td>\n",
       "      <td>6</td>\n",
       "      <td>4.1</td>\n",
       "      <td>14</td>\n",
       "      <td>1.7</td>\n",
       "      <td>0.588</td>\n",
       "      <td>name</td>\n",
       "      <td>1</td>\n",
       "      <td>0</td>\n",
       "      <td>NaN</td>\n",
       "    </tr>\n",
       "    <tr>\n",
       "      <th>2</th>\n",
       "      <td>16</td>\n",
       "      <td>0</td>\n",
       "      <td>55</td>\n",
       "      <td>0</td>\n",
       "      <td>0.26</td>\n",
       "      <td>4</td>\n",
       "      <td>3.42</td>\n",
       "      <td>14</td>\n",
       "      <td>1</td>\n",
       "      <td>1</td>\n",
       "      <td>name</td>\n",
       "      <td>1</td>\n",
       "      <td>0</td>\n",
       "      <td>NaN</td>\n",
       "    </tr>\n",
       "    <tr>\n",
       "      <th>3</th>\n",
       "      <td>57</td>\n",
       "      <td>0</td>\n",
       "      <td>60</td>\n",
       "      <td>0</td>\n",
       "      <td>0.253</td>\n",
       "      <td>12.062</td>\n",
       "      <td>4.603</td>\n",
       "      <td>16</td>\n",
       "      <td>1.45</td>\n",
       "      <td>0.788</td>\n",
       "      <td>name</td>\n",
       "      <td>1</td>\n",
       "      <td>0</td>\n",
       "      <td>NaN</td>\n",
       "    </tr>\n",
       "    <tr>\n",
       "      <th>4</th>\n",
       "      <td>19</td>\n",
       "      <td>1</td>\n",
       "      <td>57</td>\n",
       "      <td>0</td>\n",
       "      <td>0.16</td>\n",
       "      <td>22</td>\n",
       "      <td>5.75</td>\n",
       "      <td>18</td>\n",
       "      <td>2.25</td>\n",
       "      <td>0.571</td>\n",
       "      <td>name</td>\n",
       "      <td>1</td>\n",
       "      <td>0</td>\n",
       "      <td>NaN</td>\n",
       "    </tr>\n",
       "  </tbody>\n",
       "</table>\n",
       "</div>"
      ],
      "text/plain": [
       "  survival still_alive age_at_heart_attack  pericardial_effusion  \\\n",
       "0       11           0                  71                     0   \n",
       "1       19           0                  72                     0   \n",
       "2       16           0                  55                     0   \n",
       "3       57           0                  60                     0   \n",
       "4       19           1                  57                     0   \n",
       "\n",
       "  fractional_shortening    epss   lvdd wall_motion_score wall_motion_index  \\\n",
       "0                  0.26       9    4.6                14                 1   \n",
       "1                  0.38       6    4.1                14               1.7   \n",
       "2                  0.26       4   3.42                14                 1   \n",
       "3                 0.253  12.062  4.603                16              1.45   \n",
       "4                  0.16      22   5.75                18              2.25   \n",
       "\n",
       "    mult  name group alive_at_1 Unnamed: 13  \n",
       "0      1  name     1          0         NaN  \n",
       "1  0.588  name     1          0         NaN  \n",
       "2      1  name     1          0         NaN  \n",
       "3  0.788  name     1          0         NaN  \n",
       "4  0.571  name     1          0         NaN  "
      ]
     },
     "execution_count": 42,
     "metadata": {},
     "output_type": "execute_result"
    }
   ],
   "source": [
    "# Load and view data\n",
    "df = pd.read_csv(\"echocardiogram.csv\")\n",
    "df.head()"
   ]
  },
  {
   "cell_type": "code",
   "execution_count": 43,
   "id": "efaed027",
   "metadata": {
    "scrolled": true
   },
   "outputs": [],
   "source": [
    "# Drop unnamed column\n",
    "df = df.drop(columns={\"Unnamed: 13\"})"
   ]
  },
  {
   "cell_type": "markdown",
   "id": "0f093ce0",
   "metadata": {},
   "source": [
    "<b>Column info (Acquired from UCI ML repo. dataset page)</b>\n",
    " 1. `survival`: the number of months patient survived (has survived, if patient is still alive).  Because all the patients had their heart attacks at different times, it is possible that some patients have survived less than one year but they are still alive.  Check the second variable to confirm this.  Such patients cannot be used for the prediction task mentioned above.\n",
    "   2. `still_alive`: a binary variable.  0=dead at end of survival period, 1 means still alive \n",
    "   3. `age_at_heart_attack`: age in years when heart attack occurred\n",
    "   4. `pericardial_effusion`: binary. Pericardial effusion is fluid around the heart.  0=no fluid, 1=fluid\n",
    "   5. `fractional_shortening`: a measure of contracility around the heart lower numbers are increasingly abnormal\n",
    "   6. `epss`: E-point septal separation, another measure of contractility.  Larger numbers are increasingly abnormal.\n",
    "   7. `lvdd`: left ventricular end-diastolic dimension.  This is a measure of the size of the heart at end-diastole. Large hearts tend to be sick hearts.\n",
    "   8. `wall_motion_score`: a measure of how the segments of the left ventricle are moving\n",
    "   9. `wall_motion_index`: equals wall-motion-score divided by number of segments seen.  Usually 12-13 segments are seen in an echocardiogram.  Use this variable INSTEAD of the wall motion score.\n",
    "   10. `mult`: a derivate var which can be ignored\n",
    "   11. `name`: the name of the patient (I have replaced them with \"name\")\n",
    "   12. `group`: meaningless, ignore it\n",
    "   13. `alive_at_1`: Boolean-valued. Derived from the first two attributes. 0 means patient was either dead after 1 year or had been followed for less than 1 year.  1 means patient was alive at 1 year."
   ]
  },
  {
   "cell_type": "code",
   "execution_count": 44,
   "id": "a41366eb",
   "metadata": {},
   "outputs": [],
   "source": [
    "# Drop \"wall_motion_score\" since \"wall_motion_index\" can be used instead\n",
    "df.drop(columns={\"wall_motion_score\"}, inplace=True)\n",
    "\n",
    "# Drop irrelevant or useless columns \"mult\" and \"name\"\n",
    "df.drop(columns={\"mult\", \"name\"}, inplace=True)"
   ]
  },
  {
   "cell_type": "code",
   "execution_count": 45,
   "id": "1d7f593c",
   "metadata": {},
   "outputs": [],
   "source": [
    "# Rename \"alive_at_1\" to _alive_at_1_year\" for clarity\n",
    "df.rename(columns={\"alive_at_1\": \"alive_at_1_year\"}, inplace=True)"
   ]
  },
  {
   "cell_type": "code",
   "execution_count": 46,
   "id": "f55f81fb",
   "metadata": {},
   "outputs": [],
   "source": [
    "# Replace missing value placeholders \"?\" with NaN\n",
    "df.replace(\"?\", np.nan, inplace=True)\n",
    "\n",
    "# Replace blank values with NaN\n",
    "df.replace(\"\", np.nan, inplace=True)"
   ]
  },
  {
   "cell_type": "code",
   "execution_count": 47,
   "id": "2cee09fc",
   "metadata": {},
   "outputs": [
    {
     "data": {
      "text/html": [
       "<div>\n",
       "<style scoped>\n",
       "    .dataframe tbody tr th:only-of-type {\n",
       "        vertical-align: middle;\n",
       "    }\n",
       "\n",
       "    .dataframe tbody tr th {\n",
       "        vertical-align: top;\n",
       "    }\n",
       "\n",
       "    .dataframe thead th {\n",
       "        text-align: right;\n",
       "    }\n",
       "</style>\n",
       "<table border=\"1\" class=\"dataframe\">\n",
       "  <thead>\n",
       "    <tr style=\"text-align: right;\">\n",
       "      <th></th>\n",
       "      <th>survival</th>\n",
       "      <th>still_alive</th>\n",
       "      <th>age_at_heart_attack</th>\n",
       "      <th>pericardial_effusion</th>\n",
       "      <th>fractional_shortening</th>\n",
       "      <th>epss</th>\n",
       "      <th>lvdd</th>\n",
       "      <th>wall_motion_index</th>\n",
       "      <th>group</th>\n",
       "      <th>alive_at_1_year</th>\n",
       "    </tr>\n",
       "  </thead>\n",
       "  <tbody>\n",
       "    <tr>\n",
       "      <th>0</th>\n",
       "      <td>2</td>\n",
       "      <td>1</td>\n",
       "      <td>6</td>\n",
       "      <td>0</td>\n",
       "      <td>8</td>\n",
       "      <td>15</td>\n",
       "      <td>11</td>\n",
       "      <td>2</td>\n",
       "      <td>22</td>\n",
       "      <td>57</td>\n",
       "    </tr>\n",
       "  </tbody>\n",
       "</table>\n",
       "</div>"
      ],
      "text/plain": [
       "   survival  still_alive  age_at_heart_attack  pericardial_effusion  \\\n",
       "0         2            1                    6                     0   \n",
       "\n",
       "   fractional_shortening  epss  lvdd  wall_motion_index  group  \\\n",
       "0                      8    15    11                  2     22   \n",
       "\n",
       "   alive_at_1_year  \n",
       "0               57  "
      ]
     },
     "execution_count": 47,
     "metadata": {},
     "output_type": "execute_result"
    }
   ],
   "source": [
    "# View missing value counts\n",
    "df.isna().sum().to_frame().transpose()"
   ]
  },
  {
   "cell_type": "code",
   "execution_count": 48,
   "id": "c3a65433",
   "metadata": {},
   "outputs": [],
   "source": [
    "# Strip white spaces from all object columns\n",
    "for col in df.columns: \n",
    "    if df[col].dtype == \"O\": \n",
    "        df[col] = df[col].str.strip()"
   ]
  },
  {
   "cell_type": "code",
   "execution_count": 49,
   "id": "c47019fb",
   "metadata": {},
   "outputs": [],
   "source": [
    "# Replace all missing values with the mode of the column\n",
    "for col in df.columns: \n",
    "    mode = df[col].mode().iloc[0]\n",
    "    df[col] = df[col].fillna(mode)"
   ]
  },
  {
   "cell_type": "code",
   "execution_count": 50,
   "id": "9d4e680d",
   "metadata": {
    "scrolled": true
   },
   "outputs": [
    {
     "data": {
      "text/html": [
       "<div>\n",
       "<style scoped>\n",
       "    .dataframe tbody tr th:only-of-type {\n",
       "        vertical-align: middle;\n",
       "    }\n",
       "\n",
       "    .dataframe tbody tr th {\n",
       "        vertical-align: top;\n",
       "    }\n",
       "\n",
       "    .dataframe thead th {\n",
       "        text-align: right;\n",
       "    }\n",
       "</style>\n",
       "<table border=\"1\" class=\"dataframe\">\n",
       "  <thead>\n",
       "    <tr style=\"text-align: right;\">\n",
       "      <th></th>\n",
       "      <th>survival</th>\n",
       "      <th>still_alive</th>\n",
       "      <th>age_at_heart_attack</th>\n",
       "      <th>pericardial_effusion</th>\n",
       "      <th>fractional_shortening</th>\n",
       "      <th>epss</th>\n",
       "      <th>lvdd</th>\n",
       "      <th>wall_motion_index</th>\n",
       "      <th>group</th>\n",
       "      <th>alive_at_1_year</th>\n",
       "    </tr>\n",
       "  </thead>\n",
       "  <tbody>\n",
       "    <tr>\n",
       "      <th>0</th>\n",
       "      <td>0</td>\n",
       "      <td>0</td>\n",
       "      <td>0</td>\n",
       "      <td>0</td>\n",
       "      <td>0</td>\n",
       "      <td>0</td>\n",
       "      <td>0</td>\n",
       "      <td>0</td>\n",
       "      <td>0</td>\n",
       "      <td>0</td>\n",
       "    </tr>\n",
       "  </tbody>\n",
       "</table>\n",
       "</div>"
      ],
      "text/plain": [
       "   survival  still_alive  age_at_heart_attack  pericardial_effusion  \\\n",
       "0         0            0                    0                     0   \n",
       "\n",
       "   fractional_shortening  epss  lvdd  wall_motion_index  group  \\\n",
       "0                      0     0     0                  0      0   \n",
       "\n",
       "   alive_at_1_year  \n",
       "0                0  "
      ]
     },
     "execution_count": 50,
     "metadata": {},
     "output_type": "execute_result"
    }
   ],
   "source": [
    "# View missing value counts\n",
    "df.isna().sum().to_frame().transpose()"
   ]
  },
  {
   "cell_type": "code",
   "execution_count": 51,
   "id": "c1270cf1",
   "metadata": {
    "scrolled": true
   },
   "outputs": [
    {
     "name": "stdout",
     "output_type": "stream",
     "text": [
      "<class 'pandas.core.frame.DataFrame'>\n",
      "RangeIndex: 132 entries, 0 to 131\n",
      "Data columns (total 10 columns):\n",
      " #   Column                 Non-Null Count  Dtype \n",
      "---  ------                 --------------  ----- \n",
      " 0   survival               132 non-null    object\n",
      " 1   still_alive            132 non-null    object\n",
      " 2   age_at_heart_attack    132 non-null    object\n",
      " 3   pericardial_effusion   132 non-null    int64 \n",
      " 4   fractional_shortening  132 non-null    object\n",
      " 5   epss                   132 non-null    object\n",
      " 6   lvdd                   132 non-null    object\n",
      " 7   wall_motion_index      132 non-null    object\n",
      " 8   group                  132 non-null    object\n",
      " 9   alive_at_1_year        132 non-null    object\n",
      "dtypes: int64(1), object(9)\n",
      "memory usage: 10.4+ KB\n"
     ]
    }
   ],
   "source": [
    "# Check datatypes of columns\n",
    "df.info()"
   ]
  },
  {
   "cell_type": "code",
   "execution_count": 52,
   "id": "679500eb",
   "metadata": {
    "scrolled": false
   },
   "outputs": [],
   "source": [
    "# Convert datatypes\n",
    "df[\"survival\"] = df[\"survival\"].astype(float)\n",
    "df[\"still_alive\"] = df[\"still_alive\"].astype(int)\n",
    "\n",
    "df[\"age_at_heart_attack\"] = df[\"age_at_heart_attack\"].astype(float)\n",
    "df[\"age_at_heart_attack\"] = np.floor(df[\"age_at_heart_attack\"])\n",
    "df[\"age_at_heart_attack\"] = df[\"age_at_heart_attack\"].astype(int)\n",
    "\n",
    "df[\"fractional_shortening\"] = df[\"fractional_shortening\"].astype(float)\n",
    "df[\"epss\"] = df[\"epss\"].astype(float)\n",
    "df[\"lvdd\"] = df[\"lvdd\"].astype(float)\n",
    "df[\"wall_motion_index\"] = df[\"wall_motion_index\"].astype(float)\n",
    "df[\"alive_at_1_year\"] = df[\"alive_at_1_year\"].astype(int)"
   ]
  },
  {
   "cell_type": "code",
   "execution_count": 53,
   "id": "d6ccbb70",
   "metadata": {},
   "outputs": [
    {
     "name": "stdout",
     "output_type": "stream",
     "text": [
      "<class 'pandas.core.frame.DataFrame'>\n",
      "RangeIndex: 132 entries, 0 to 131\n",
      "Data columns (total 10 columns):\n",
      " #   Column                 Non-Null Count  Dtype  \n",
      "---  ------                 --------------  -----  \n",
      " 0   survival               132 non-null    float64\n",
      " 1   still_alive            132 non-null    int32  \n",
      " 2   age_at_heart_attack    132 non-null    int32  \n",
      " 3   pericardial_effusion   132 non-null    int64  \n",
      " 4   fractional_shortening  132 non-null    float64\n",
      " 5   epss                   132 non-null    float64\n",
      " 6   lvdd                   132 non-null    float64\n",
      " 7   wall_motion_index      132 non-null    float64\n",
      " 8   group                  132 non-null    object \n",
      " 9   alive_at_1_year        132 non-null    int32  \n",
      "dtypes: float64(5), int32(3), int64(1), object(1)\n",
      "memory usage: 8.9+ KB\n"
     ]
    }
   ],
   "source": [
    "# View updated datatypes\n",
    "df.info()"
   ]
  },
  {
   "cell_type": "code",
   "execution_count": 54,
   "id": "ef8620d6",
   "metadata": {},
   "outputs": [],
   "source": [
    "# Replace erroneous \"alive_at_1_year\" value\n",
    "df[\"alive_at_1_year\"] = np.where(df[\"alive_at_1_year\"] > 1, 1, df[\"alive_at_1_year\"])"
   ]
  },
  {
   "cell_type": "code",
   "execution_count": 55,
   "id": "00be723c",
   "metadata": {},
   "outputs": [],
   "source": [
    "# Replace erroneous \"group\" value\n",
    "df[\"group\"] = np.where(df[\"group\"] == \"name\", df[\"group\"].mode(), df[\"group\"])\n",
    "\n",
    "# Convert \"group\" to numeric\n",
    "df[\"group\"] = df[\"group\"].astype(int)"
   ]
  },
  {
   "cell_type": "markdown",
   "id": "3e4563de",
   "metadata": {},
   "source": [
    "The \"Additional Variable Information\" part of the UCI ML Repository page for the dataset says this about the `survival` variable:<br><br>\n",
    "<span style=\"color:red\">\"Because all the patients had their heart attacks at different times, it is possible that some patients have survived less than one year but they are still alive.  Check the second variable to confirm this.  Such patients cannot be used for the prediction task mentioned above.\"</span>\n",
    "\n",
    "Thus, we need to eliminate the entries where `still_alive` = 1 and `alive_at_1_year` = 0 to get rid of patients who are still alive but haven't survived for a year yet. "
   ]
  },
  {
   "cell_type": "code",
   "execution_count": 56,
   "id": "8627af28",
   "metadata": {},
   "outputs": [],
   "source": [
    "# Eliminate entries not useful for prediction\n",
    "still_alive = df[\"still_alive\"] == 1\n",
    "hasnt_lived_1_year = df[\"alive_at_1_year\"] == 0\n",
    "df = df[~(still_alive & hasnt_lived_1_year)]"
   ]
  },
  {
   "cell_type": "code",
   "execution_count": 57,
   "id": "151bf03f",
   "metadata": {},
   "outputs": [],
   "source": [
    "# Reset indices\n",
    "df = df.reset_index(drop=True)"
   ]
  },
  {
   "cell_type": "markdown",
   "id": "46415d75",
   "metadata": {},
   "source": [
    "<b>Explore the data, perform initial descriptive statistics tests, and explain and visualize your findings. Use the kable() function to visualize the data.</b>\n",
    "\n",
    "First, let's look at histograms for each variable in the dataset to get a feel for their distributions. "
   ]
  },
  {
   "cell_type": "code",
   "execution_count": 58,
   "id": "e91d370f",
   "metadata": {},
   "outputs": [
    {
     "data": {
      "image/png": "[encoded data removed]",
      "text/plain": [
       "<Figure size 1000x1000 with 12 Axes>"
      ]
     },
     "metadata": {},
     "output_type": "display_data"
    }
   ],
   "source": [
    "# Set up figure and axes\n",
    "fig, axes = plt.subplots(nrows=3, ncols=4, figsize=(10,10))\n",
    "axes = axes.flatten()\n",
    "\n",
    "# Plot histograms\n",
    "for i, col in enumerate(df.columns): \n",
    "    df[col].plot(kind=\"hist\", ax=axes[i], title=col, edgecolor=\"black\")\n",
    "    axes[i].set_ylabel(\"Frequency\")\n",
    "\n",
    "# Display plots\n",
    "plt.tight_layout()\n",
    "plt.show()"
   ]
  },
  {
   "cell_type": "markdown",
   "id": "c21d7c2f",
   "metadata": {},
   "source": [
    "For `survival`, we see that a substantial number of patients died within the first 5 months, but it follows a somewhat normal distribution overall. We see that `age_at_heart_attack`, `fractional_shortening`, and `lvdd` follow an approximately normal distribution as well. The histogram for `alive_at_1_year` shows that the majority of patients did not make it past the first year. \n",
    "\n",
    "Next, let's take a look at descriptive statistics for each variable. "
   ]
  },
  {
   "cell_type": "code",
   "execution_count": 59,
   "id": "c161c984",
   "metadata": {},
   "outputs": [
    {
     "data": {
      "text/html": [
       "<div>\n",
       "<style scoped>\n",
       "    .dataframe tbody tr th:only-of-type {\n",
       "        vertical-align: middle;\n",
       "    }\n",
       "\n",
       "    .dataframe tbody tr th {\n",
       "        vertical-align: top;\n",
       "    }\n",
       "\n",
       "    .dataframe thead th {\n",
       "        text-align: right;\n",
       "    }\n",
       "</style>\n",
       "<table border=\"1\" class=\"dataframe\">\n",
       "  <thead>\n",
       "    <tr style=\"text-align: right;\">\n",
       "      <th></th>\n",
       "      <th>survival</th>\n",
       "      <th>still_alive</th>\n",
       "      <th>age_at_heart_attack</th>\n",
       "      <th>pericardial_effusion</th>\n",
       "      <th>fractional_shortening</th>\n",
       "      <th>epss</th>\n",
       "      <th>lvdd</th>\n",
       "      <th>wall_motion_index</th>\n",
       "      <th>group</th>\n",
       "      <th>alive_at_1_year</th>\n",
       "    </tr>\n",
       "  </thead>\n",
       "  <tbody>\n",
       "    <tr>\n",
       "      <th>count</th>\n",
       "      <td>113.000000</td>\n",
       "      <td>113.000000</td>\n",
       "      <td>113.000000</td>\n",
       "      <td>113.000000</td>\n",
       "      <td>113.000000</td>\n",
       "      <td>113.000000</td>\n",
       "      <td>113.000000</td>\n",
       "      <td>113.000000</td>\n",
       "      <td>113.000000</td>\n",
       "      <td>113.000000</td>\n",
       "    </tr>\n",
       "    <tr>\n",
       "      <th>mean</th>\n",
       "      <td>23.739204</td>\n",
       "      <td>0.212389</td>\n",
       "      <td>62.433628</td>\n",
       "      <td>0.858407</td>\n",
       "      <td>0.220354</td>\n",
       "      <td>10.398035</td>\n",
       "      <td>4.692239</td>\n",
       "      <td>1.362097</td>\n",
       "      <td>1.805310</td>\n",
       "      <td>0.221239</td>\n",
       "    </tr>\n",
       "    <tr>\n",
       "      <th>std</th>\n",
       "      <td>15.806552</td>\n",
       "      <td>0.410821</td>\n",
       "      <td>8.180853</td>\n",
       "      <td>7.236894</td>\n",
       "      <td>0.106739</td>\n",
       "      <td>7.895302</td>\n",
       "      <td>0.801184</td>\n",
       "      <td>0.428349</td>\n",
       "      <td>0.397726</td>\n",
       "      <td>0.416930</td>\n",
       "    </tr>\n",
       "    <tr>\n",
       "      <th>min</th>\n",
       "      <td>0.030000</td>\n",
       "      <td>0.000000</td>\n",
       "      <td>35.000000</td>\n",
       "      <td>0.000000</td>\n",
       "      <td>0.010000</td>\n",
       "      <td>0.000000</td>\n",
       "      <td>2.320000</td>\n",
       "      <td>1.000000</td>\n",
       "      <td>1.000000</td>\n",
       "      <td>0.000000</td>\n",
       "    </tr>\n",
       "    <tr>\n",
       "      <th>25%</th>\n",
       "      <td>11.000000</td>\n",
       "      <td>0.000000</td>\n",
       "      <td>57.000000</td>\n",
       "      <td>0.000000</td>\n",
       "      <td>0.150000</td>\n",
       "      <td>5.500000</td>\n",
       "      <td>4.230000</td>\n",
       "      <td>1.000000</td>\n",
       "      <td>2.000000</td>\n",
       "      <td>0.000000</td>\n",
       "    </tr>\n",
       "    <tr>\n",
       "      <th>50%</th>\n",
       "      <td>25.000000</td>\n",
       "      <td>0.000000</td>\n",
       "      <td>62.000000</td>\n",
       "      <td>0.000000</td>\n",
       "      <td>0.217000</td>\n",
       "      <td>9.400000</td>\n",
       "      <td>4.510000</td>\n",
       "      <td>1.200000</td>\n",
       "      <td>2.000000</td>\n",
       "      <td>0.000000</td>\n",
       "    </tr>\n",
       "    <tr>\n",
       "      <th>75%</th>\n",
       "      <td>34.000000</td>\n",
       "      <td>0.000000</td>\n",
       "      <td>66.000000</td>\n",
       "      <td>0.000000</td>\n",
       "      <td>0.272000</td>\n",
       "      <td>13.600000</td>\n",
       "      <td>5.250000</td>\n",
       "      <td>1.510000</td>\n",
       "      <td>2.000000</td>\n",
       "      <td>0.000000</td>\n",
       "    </tr>\n",
       "    <tr>\n",
       "      <th>max</th>\n",
       "      <td>57.000000</td>\n",
       "      <td>1.000000</td>\n",
       "      <td>86.000000</td>\n",
       "      <td>77.000000</td>\n",
       "      <td>0.610000</td>\n",
       "      <td>40.000000</td>\n",
       "      <td>6.780000</td>\n",
       "      <td>3.000000</td>\n",
       "      <td>2.000000</td>\n",
       "      <td>1.000000</td>\n",
       "    </tr>\n",
       "  </tbody>\n",
       "</table>\n",
       "</div>"
      ],
      "text/plain": [
       "         survival  still_alive  age_at_heart_attack  pericardial_effusion  \\\n",
       "count  113.000000   113.000000           113.000000            113.000000   \n",
       "mean    23.739204     0.212389            62.433628              0.858407   \n",
       "std     15.806552     0.410821             8.180853              7.236894   \n",
       "min      0.030000     0.000000            35.000000              0.000000   \n",
       "25%     11.000000     0.000000            57.000000              0.000000   \n",
       "50%     25.000000     0.000000            62.000000              0.000000   \n",
       "75%     34.000000     0.000000            66.000000              0.000000   \n",
       "max     57.000000     1.000000            86.000000             77.000000   \n",
       "\n",
       "       fractional_shortening        epss        lvdd  wall_motion_index  \\\n",
       "count             113.000000  113.000000  113.000000         113.000000   \n",
       "mean                0.220354   10.398035    4.692239           1.362097   \n",
       "std                 0.106739    7.895302    0.801184           0.428349   \n",
       "min                 0.010000    0.000000    2.320000           1.000000   \n",
       "25%                 0.150000    5.500000    4.230000           1.000000   \n",
       "50%                 0.217000    9.400000    4.510000           1.200000   \n",
       "75%                 0.272000   13.600000    5.250000           1.510000   \n",
       "max                 0.610000   40.000000    6.780000           3.000000   \n",
       "\n",
       "            group  alive_at_1_year  \n",
       "count  113.000000       113.000000  \n",
       "mean     1.805310         0.221239  \n",
       "std      0.397726         0.416930  \n",
       "min      1.000000         0.000000  \n",
       "25%      2.000000         0.000000  \n",
       "50%      2.000000         0.000000  \n",
       "75%      2.000000         0.000000  \n",
       "max      2.000000         1.000000  "
      ]
     },
     "execution_count": 59,
     "metadata": {},
     "output_type": "execute_result"
    }
   ],
   "source": [
    "# Provide descriptive statistics\n",
    "df.describe()"
   ]
  },
  {
   "cell_type": "markdown",
   "id": "4a43bde5",
   "metadata": {},
   "source": [
    "### Formulating the research question\n",
    "<b>Formulate a question that can be answered by performing survival analysis.</b>\n",
    "\n",
    "Research question: What is the overall survival rate among patients who had heart attacks? "
   ]
  },
  {
   "cell_type": "markdown",
   "id": "455f6825",
   "metadata": {},
   "source": [
    "# Task 2\n",
    "Calculate the Kaplan-Meier Estimator in Python:\n",
    "\n",
    "1. Import the lifelines and matplotlib packages.\n",
    "2. Explore the KaplanMeierFitter filter and build a kmf object using the response variable.\n",
    "3. Print the kmf object you generated.\n",
    "4. Analyze the data with the kmf.fit().\n",
    "5. Generate a KM curve."
   ]
  },
  {
   "cell_type": "markdown",
   "id": "f9a21879",
   "metadata": {},
   "source": [
    "<b>Explore the KaplanMeierFitter filter and build a kmf object using the response variable.</b><br>\n",
    "<b>Print the kmf object you generated.</b><br>\n",
    "<b>Analyze the data with the kmf.fit().</b>"
   ]
  },
  {
   "cell_type": "code",
   "execution_count": 60,
   "id": "747b84e8",
   "metadata": {},
   "outputs": [
    {
     "name": "stdout",
     "output_type": "stream",
     "text": [
      "<lifelines.KaplanMeierFitter:\"KM_estimate\", fitted with 113 total observations, 88 right-censored observations>\n"
     ]
    }
   ],
   "source": [
    "# Build kmf object\n",
    "kmf = KaplanMeierFitter()\n",
    "kmf.fit(durations=df[\"survival\"], event_observed=df[\"alive_at_1_year\"])\n",
    "\n",
    "# Print kmf object\n",
    "print(kmf)"
   ]
  },
  {
   "cell_type": "markdown",
   "id": "bd26209f",
   "metadata": {},
   "source": [
    "Our Kaplan-Meier estimate includes 88 right-censored observations out of 113 total, meaning that ~78% of our patients did not reach the 1-year mark within the given time frame, and the remaining patients did. "
   ]
  },
  {
   "cell_type": "markdown",
   "id": "6b264c1d",
   "metadata": {},
   "source": [
    "<b>Generate a KM curve.</b>"
   ]
  },
  {
   "cell_type": "code",
   "execution_count": 61,
   "id": "14541e4e",
   "metadata": {},
   "outputs": [
    {
     "data": {
      "image/png": "[encoded data removed]",
      "text/plain": [
       "<Figure size 640x480 with 1 Axes>"
      ]
     },
     "metadata": {},
     "output_type": "display_data"
    }
   ],
   "source": [
    "# Plot Kaplan-Meier survival curve\n",
    "kmf.plot_survival_function()\n",
    "plt.title(\"Kaplan-Meier Survival Curve\")\n",
    "plt.xlabel(\"Time (Survival)\")\n",
    "plt.ylabel(\"Survival Probability\")\n",
    "plt.show()"
   ]
  },
  {
   "cell_type": "markdown",
   "id": "8d937774",
   "metadata": {},
   "source": [
    "We see that the survival probability stabilizes around 78%, which is the approximate percentage of patients who made it to the 1-year mark. "
   ]
  },
  {
   "cell_type": "markdown",
   "id": "6d50adf2",
   "metadata": {},
   "source": [
    "# Task 3\n",
    "Visualize Survival Data:\n",
    "\n",
    "1. Familiarize yourself with the matplotlib package.\n",
    "2. Create a detailed, visually appealing plot of the data using kmf.plot(title=’Kaplan-Meier Survival Curve’, xlabel=’Time’, ylabel=’Survival Probability’)."
   ]
  },
  {
   "cell_type": "code",
   "execution_count": 62,
   "id": "fd7f9a43",
   "metadata": {},
   "outputs": [],
   "source": [
    "# Create detailed and visually appealing plot of the data\n",
    "# kmf.plot(title=\"Kaplan-Meier Survival Curve\", xlabel=\"Time\", ylabel=\"Survival Probability\")"
   ]
  },
  {
   "cell_type": "markdown",
   "id": "1c039469",
   "metadata": {},
   "source": [
    "The line of code that is commented out right above this generated a plot identical to the KM survival curve rendered in the previous task, so I commented it out to cut down on redundancy. "
   ]
  },
  {
   "cell_type": "markdown",
   "id": "b54f7547",
   "metadata": {},
   "source": [
    "# Task 4\n",
    "Generate K-M Curves with the Predictor:\n",
    "\n",
    "1. Stratify the analysis into standard vs. experimental using fit method with strata parameter.\n",
    "2. Display the strata using print().\n",
    "3. Plot the strata using plot().\n",
    "4. Plot the overall survival, stratified by the appropriate variable."
   ]
  },
  {
   "cell_type": "markdown",
   "id": "e6b08859",
   "metadata": {},
   "source": [
    "<b>Stratify the analysis into standard vs. experimental using fit method with strata parameter.</b><br>\n",
    "<b>Display the strata using print().</b>\n",
    "\n",
    "I tried using the `strata` parameter within `kmf.fit()`, but this was met with the following error: \n",
    "\n",
    "<span style=\"color:red\">TypeError:</span> KaplanMeierFitter.fit() got an unexpected keyword argument 'strata'\n",
    "\n",
    "Thus, I had to use a workaround to stratify the data. "
   ]
  },
  {
   "cell_type": "code",
   "execution_count": 63,
   "id": "e07c48d5",
   "metadata": {},
   "outputs": [
    {
     "name": "stdout",
     "output_type": "stream",
     "text": [
      "Unique groups: [1 2]\n",
      "Kaplan-Meier Fitter for group 1: <lifelines.KaplanMeierFitter>\n",
      "Kaplan-Meier Fitter for group 2: <lifelines.KaplanMeierFitter>\n"
     ]
    }
   ],
   "source": [
    "# Stratify analysis by \"group\"\n",
    "groups = df[\"group\"].unique()\n",
    "print(f\"Unique groups: {groups}\")\n",
    "\n",
    "# Create a separate KaplanMeierFitter object for each group\n",
    "kmfs = {}\n",
    "for group in groups: \n",
    "    kmfs[group] = KaplanMeierFitter()\n",
    "    print(f\"Kaplan-Meier Fitter for group {group}:\", kmfs[group])\n",
    "    data_group = df[df[\"group\"] == group]\n",
    "    kmfs[group].fit(durations=data_group[\"survival\"], event_observed=data_group[\"alive_at_1_year\"], label=group)"
   ]
  },
  {
   "cell_type": "markdown",
   "id": "d9dac783",
   "metadata": {},
   "source": [
    "<b>Plot the strata using plot().</b>"
   ]
  },
  {
   "cell_type": "code",
   "execution_count": 64,
   "id": "d2ffa62f",
   "metadata": {
    "scrolled": false
   },
   "outputs": [
    {
     "data": {
      "image/png": "[encoded data removed]",
      "text/plain": [
       "<Figure size 1000x600 with 1 Axes>"
      ]
     },
     "metadata": {},
     "output_type": "display_data"
    }
   ],
   "source": [
    "# Plot Kaplan-Meier survival curves for each group\n",
    "plt.figure(figsize=(10,6))\n",
    "for group, kmf in kmfs.items(): \n",
    "    kmf.plot_survival_function()\n",
    "plt.title(\"Kaplan-Meier Survival Curves by Group\")\n",
    "plt.xlabel(\"Time (Survival)\")\n",
    "plt.ylabel(\"Probability of Survival\")\n",
    "plt.legend()\n",
    "plt.show()"
   ]
  },
  {
   "cell_type": "markdown",
   "id": "cdd79b4c",
   "metadata": {},
   "source": [
    "We notice that group 1 has a substantially lower probability of survival than group 2 after about the 2-month mark. "
   ]
  },
  {
   "cell_type": "markdown",
   "id": "307ec73f",
   "metadata": {},
   "source": [
    "<b>Plot the overall survival, stratified by the appropriate variable.</b>"
   ]
  },
  {
   "cell_type": "code",
   "execution_count": 65,
   "id": "3f0da611",
   "metadata": {},
   "outputs": [
    {
     "data": {
      "image/png": "[encoded data removed]",
      "text/plain": [
       "<Figure size 1000x600 with 1 Axes>"
      ]
     },
     "metadata": {},
     "output_type": "display_data"
    }
   ],
   "source": [
    "# Create fitter for overall survival\n",
    "kmf_overall = KaplanMeierFitter()\n",
    "\n",
    "# Fit overall survival using all data\n",
    "kmf_overall.fit(durations=df[\"survival\"], event_observed=df[\"alive_at_1_year\"], label=\"Overall\")\n",
    "\n",
    "# Plot overall survival curve\n",
    "plt.figure(figsize=(10,6))\n",
    "kmf_overall.plot_survival_function(color=\"black\", linestyle=\"dashed\")\n",
    "\n",
    "# Plot survival curve for each group\n",
    "for group, kmf in kmfs.items(): \n",
    "    kmf.plot_survival_function(ci_show=False, label=group) \n",
    "plt.title(\"Kaplan-Meier Survival Curves Overall and by Group\")\n",
    "plt.xlabel(\"Time (Survival)\")\n",
    "plt.ylabel(\"Probability of Survival\")\n",
    "plt.legend()\n",
    "plt.show()"
   ]
  },
  {
   "cell_type": "markdown",
   "id": "bb25ce99",
   "metadata": {},
   "source": [
    "We see that the overall survival curve is much closer to group 2's than group 1's, probably because group 2 is much larger than group 1. "
   ]
  },
  {
   "cell_type": "code",
   "execution_count": 66,
   "id": "f7b57648",
   "metadata": {},
   "outputs": [
    {
     "data": {
      "text/plain": [
       "group\n",
       "2    91\n",
       "1    22\n",
       "Name: count, dtype: int64"
      ]
     },
     "execution_count": 66,
     "metadata": {},
     "output_type": "execute_result"
    }
   ],
   "source": [
    "# Show group sizes\n",
    "df[\"group\"].value_counts()"
   ]
  },
  {
   "cell_type": "markdown",
   "id": "5c53ff86",
   "metadata": {},
   "source": [
    "# Task 4\n",
    "Perform Log-Rank Analysis:\n",
    "1. Familiarize yourself with the logrank_test().\n",
    "2. Test the difference between survival curves using results = logrank_test(durations_A, durations_B, event_observed_A=event_A, event_observed_B=event_B).\n",
    "3. Examine and interpret the log-rank output.\n",
    "4. Plot the K-M curve and include the log-rank test."
   ]
  },
  {
   "cell_type": "markdown",
   "id": "602f3c35",
   "metadata": {},
   "source": [
    "<b>Test the difference between survival curves using</b> `results = logrank_test(durations_A, durations_B, event_observed_A=event_A, event_observed_B=event_B)`.\n",
    "\n",
    "Log-Rank test details \n",
    "* $H_0$: The survival curves for each group are identical (no difference in survival rate). \n",
    "* $H_a$: There is a difference in survival among each group. \n",
    "* $\\alpha = 0.05.$"
   ]
  },
  {
   "cell_type": "code",
   "execution_count": 67,
   "id": "77eb7a98",
   "metadata": {},
   "outputs": [],
   "source": [
    "# Perform log-rank test\n",
    "result = logrank_test(durations_A = df.loc[df[\"group\"] == 1, \"survival\"],\n",
    "                     durations_B = df.loc[df[\"group\"] == 2, \"survival\"],\n",
    "                     event_observed_A = df.loc[df[\"group\"] == 1, \"alive_at_1_year\"],\n",
    "                     event_observed_B = df.loc[df[\"group\"] == 2, \"alive_at_1_year\"])"
   ]
  },
  {
   "cell_type": "markdown",
   "id": "0a97f8ba",
   "metadata": {},
   "source": [
    "<b>Examine and interpret the log-rank output.</b>"
   ]
  },
  {
   "cell_type": "code",
   "execution_count": 68,
   "id": "28fd86a8",
   "metadata": {},
   "outputs": [
    {
     "data": {
      "text/html": [
       "<div>\n",
       "<style scoped>\n",
       "    .dataframe tbody tr th:only-of-type {\n",
       "        vertical-align: middle;\n",
       "    }\n",
       "\n",
       "    .dataframe tbody tr th {\n",
       "        vertical-align: top;\n",
       "    }\n",
       "\n",
       "    .dataframe thead th {\n",
       "        text-align: right;\n",
       "    }\n",
       "</style>\n",
       "<table border=\"1\" class=\"dataframe\">\n",
       "  <tbody>\n",
       "    <tr>\n",
       "      <th>t_0</th>\n",
       "      <td>-1</td>\n",
       "    </tr>\n",
       "    <tr>\n",
       "      <th>null_distribution</th>\n",
       "      <td>chi squared</td>\n",
       "    </tr>\n",
       "    <tr>\n",
       "      <th>degrees_of_freedom</th>\n",
       "      <td>1</td>\n",
       "    </tr>\n",
       "    <tr>\n",
       "      <th>test_name</th>\n",
       "      <td>logrank_test</td>\n",
       "    </tr>\n",
       "  </tbody>\n",
       "</table>\n",
       "</div><table border=\"1\" class=\"dataframe\">\n",
       "  <thead>\n",
       "    <tr style=\"text-align: right;\">\n",
       "      <th></th>\n",
       "      <th>test_statistic</th>\n",
       "      <th>p</th>\n",
       "      <th>-log2(p)</th>\n",
       "    </tr>\n",
       "  </thead>\n",
       "  <tbody>\n",
       "    <tr>\n",
       "      <th>0</th>\n",
       "      <td>5.94</td>\n",
       "      <td>0.01</td>\n",
       "      <td>6.08</td>\n",
       "    </tr>\n",
       "  </tbody>\n",
       "</table>"
      ],
      "text/latex": [
       "\\begin{tabular}{lrrr}\n",
       " & test_statistic & p & -log2(p) \\\\\n",
       "0 & 5.94 & 0.01 & 6.08 \\\\\n",
       "\\end{tabular}\n"
      ],
      "text/plain": [
       "<lifelines.StatisticalResult: logrank_test>\n",
       "               t_0 = -1\n",
       " null_distribution = chi squared\n",
       "degrees_of_freedom = 1\n",
       "         test_name = logrank_test\n",
       "\n",
       "---\n",
       " test_statistic    p  -log2(p)\n",
       "           5.94 0.01      6.08"
      ]
     },
     "execution_count": 68,
     "metadata": {},
     "output_type": "execute_result"
    }
   ],
   "source": [
    "# Display result\n",
    "result"
   ]
  },
  {
   "cell_type": "markdown",
   "id": "6653825a",
   "metadata": {},
   "source": [
    "We get a P-value of $0.01$, far below $\\alpha = 0.05$, so we reject $H_0$ and conclude that there is a difference in survival rates between the groups.  "
   ]
  },
  {
   "cell_type": "markdown",
   "id": "ae8c6656",
   "metadata": {},
   "source": [
    "<b>Plot the K-M curve and include the log-rank test.</b>"
   ]
  },
  {
   "cell_type": "code",
   "execution_count": 69,
   "id": "ae3bfb84",
   "metadata": {},
   "outputs": [
    {
     "data": {
      "image/png": "[encoded data removed]",
      "text/plain": [
       "<Figure size 1000x600 with 1 Axes>"
      ]
     },
     "metadata": {},
     "output_type": "display_data"
    }
   ],
   "source": [
    "# Plot overall survival curve\n",
    "plt.figure(figsize=(10,6))\n",
    "kmf_overall.plot_survival_function(color=\"black\", linestyle=\"dashed\")\n",
    "\n",
    "# Plot survival curve for each group\n",
    "for group, kmf in kmfs.items(): \n",
    "    kmf.plot_survival_function(ci_show=False, label=group) \n",
    "plt.title(\"Kaplan-Meier Survival Curves Overall and by Group\")\n",
    "plt.xlabel(\"Time (Survival)\")\n",
    "plt.ylabel(\"Probability of Survival\")\n",
    "plt.text(20, 0.65, f\"Log-Rank test P-value: {result.p_value:.4f}\", fontsize=12)\n",
    "plt.legend()\n",
    "plt.show()"
   ]
  },
  {
   "cell_type": "markdown",
   "id": "1dffd42a",
   "metadata": {},
   "source": [
    "# Task 5\n",
    "<b>Were you able to answer the question you formulated? If yes, state the answer and explain. If no, continue the analysis until you can answer the question.</b>\n",
    "\n",
    "I was certainly able to answer my original research question of \"What is the overall survival rate among patients who had heart attacks?\". The overall survival curve (dashed black line on the plots) shows that the probability of survival drops precipitously at about the 2-month mark and stabilizes around 0.78 (78%) around the 10-month mark. This means that if a heart attack victim survives to the 10-month mark, odds are good that they will live for many more months. "
   ]
  },
  {
   "cell_type": "markdown",
   "id": "739d9b35",
   "metadata": {},
   "source": [
    "# References\n",
    "Van Paemel, R. (2021, December 9). Kaplan Meier curves: an introduction - Towards Data Science. Medium. https://towardsdatascience.com/kaplan-meier-curves-c5768e349479 <br>\n",
    "ChatGPT. (n.d.). https://chat.openai.com/ <br>\n",
    "Bing AI - Bing. (n.d.-a). Bing. https://www.bing.com/search?toncp=0&FORM=hpcodx&q=Bing+AI&showconv=1"
   ]
  }
 ],
 "metadata": {
  "kernelspec": {
   "display_name": "Python 3 (ipykernel)",
   "language": "python",
   "name": "python3"
  },
  "language_info": {
   "codemirror_mode": {
    "name": "ipython",
    "version": 3
   },
   "file_extension": ".py",
   "mimetype": "text/x-python",
   "name": "python",
   "nbconvert_exporter": "python",
   "pygments_lexer": "ipython3",
   "version": "3.11.5"
  }
 },
 "nbformat": 4,
 "nbformat_minor": 5
}
